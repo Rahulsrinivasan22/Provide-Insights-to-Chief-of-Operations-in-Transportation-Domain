{
 "cells": [
  {
   "cell_type": "markdown",
   "metadata": {},
   "source": [
    "Creating data frame for all data sets"
   ]
  },
  {
   "cell_type": "code",
   "execution_count": 2,
   "metadata": {},
   "outputs": [],
   "source": [
    "import pandas as pd\n",
    "\n",
    "dim_city = pd.read_csv('E:/Projects/Pandas/Provide Insights to Chief of Operations in Transportation Domain/RPC13_Input_For_Participants/datasets/csv_files/dim_city.csv')\n",
    "\n",
    "dim_date = pd.read_csv('E:/Projects/Pandas/Provide Insights to Chief of Operations in Transportation Domain/RPC13_Input_For_Participants/datasets/csv_files/dim_date.csv')\n",
    "\n",
    "city_target_passenger_rating = pd.read_csv('E:/Projects/Pandas/Provide Insights to Chief of Operations in Transportation Domain/RPC13_Input_For_Participants/datasets/csv_files/city_target_passenger_rating.csv')\n",
    "\n",
    "dim_repeat_trip_distribution = pd.read_csv('E:/Projects/Pandas/Provide Insights to Chief of Operations in Transportation Domain/RPC13_Input_For_Participants/datasets/csv_files/dim_repeat_trip_distribution.csv')\n",
    "\n",
    "fact_passenger_summary = pd.read_csv('E:/Projects/Pandas/Provide Insights to Chief of Operations in Transportation Domain/RPC13_Input_For_Participants/datasets/csv_files/fact_passenger_summary.csv')\n",
    "\n",
    "monthly_target_new_passengers = pd.read_csv('E:/Projects/Pandas/Provide Insights to Chief of Operations in Transportation Domain/RPC13_Input_For_Participants/datasets/csv_files/monthly_target_new_passengers.csv')\n",
    "\n",
    "monthly_target_trips = pd.read_csv('E:/Projects/Pandas/Provide Insights to Chief of Operations in Transportation Domain/RPC13_Input_For_Participants/datasets/csv_files/monthly_target_trips.csv')\n",
    "\n",
    "fact_trips = pd.read_csv('E:/Projects/Pandas/Provide Insights to Chief of Operations in Transportation Domain/RPC13_Input_For_Participants/datasets/csv_files/fact_trips.csv')\n"
   ]
  },
  {
   "cell_type": "code",
   "execution_count": null,
   "metadata": {},
   "outputs": [],
   "source": [
    "print(dim_city.head())\n",
    "# print(dim_date.head())\n",
    "# print(city_target_passenger_rating.head())\n",
    "# print(dim_repeat_trip_distribution.head())\n",
    "# print(fact_passenger_summary.head())\n",
    "# print(monthly_target_new_passengers.head())\n",
    "# print(monthly_target_trips.head())\n"
   ]
  },
  {
   "cell_type": "markdown",
   "metadata": {},
   "source": [
    "1. Top and Bottom Performing Cities\n",
    "• Identify the top 3 and bottom 3 cities by total trips over the entire analysis\n",
    "period."
   ]
  },
  {
   "cell_type": "code",
   "execution_count": null,
   "metadata": {},
   "outputs": [],
   "source": [
    "cities_trips_data = pd.merge(dim_city, fact_trips, how='inner', on='city_id')\n",
    "\n",
    "monthly_data.keys()\n",
    "\n",
    "top_3_cities = pd.DataFrame(monthly_data.groupby('city_name')['trip_id'].count().sort_values(ascending=False).head(3))\n",
    "bottom_3_cities = pd.DataFrame(monthly_data.groupby('city_name')['trip_id'].count().sort_values(ascending=True).head(3))\n",
    "\n",
    "print(top_3_cities, bottom_3_cities)\n"
   ]
  },
  {
   "cell_type": "markdown",
   "metadata": {},
   "source": [
    "2. Average Fare per Trip by City\n",
    "• Calculate the average fare per trip for each city and compare it with the city's\n",
    "average trip distance. Identify the cities with the highest and lowest average\n",
    "fare per trip to assess pricing efficiency across locations."
   ]
  },
  {
   "cell_type": "code",
   "execution_count": null,
   "metadata": {},
   "outputs": [],
   "source": [
    "cities_trips_data = pd.merge(dim_city, fact_trips, how='inner', on='city_id')\n",
    "\n",
    "cities_trips_data['avg_fare'] = cities_trips_data.groupby('city_name')['fare_amount'].transform('mean').sort_values(ascending=False).round(2)\n",
    "\n",
    "cities_trips_data['avg_distance'] = cities_trips_data.groupby('city_name')['distance_travelled(km)'].transform('mean').sort_values(ascending=True).round(2)\n",
    "\n",
    "cities_trips_data['avg_fare_per_km'] = (cities_trips_data['avg_fare']/cities_trips_data['avg_distance']).round(2)\n",
    "\n",
    "cities_trips_data[['city_name', 'avg_fare', 'avg_distance', 'avg_fare_per_km']].drop_duplicates().reset_index(drop=True)\n",
    "\n",
    "\n"
   ]
  },
  {
   "cell_type": "markdown",
   "metadata": {},
   "source": [
    "3. Average Ratings by City and Passenger Type\n",
    "• Calculate the average passenger and driver ratings for each city, segmented\n",
    "by passenger type (new vs. repeat). Identify cities with the highest and lowest\n",
    "average ratings."
   ]
  },
  {
   "cell_type": "code",
   "execution_count": null,
   "metadata": {},
   "outputs": [],
   "source": [
    "cities_rating  = pd.merge(dim_city, fact_trips, how='inner', on= 'city_id')\n",
    "\n",
    "cities_rating['avg_passenger_rating'] = cities_rating.groupby(['city_id','passenger_type'])['passenger_rating'].transform('mean').round(2)\n",
    "\n",
    "cities_rating['avg_driver_rating'] = cities_rating.groupby(['city_id','passenger_type'])['driver_rating'].transform('mean').round(2)\n",
    "\n",
    "cities_rating[['city_name','avg_passenger_rating','avg_driver_rating','passenger_type']].drop_duplicates().reset_index(drop=True).sort_values(by=['avg_passenger_rating','avg_driver_rating'], ascending=True)"
   ]
  },
  {
   "cell_type": "markdown",
   "metadata": {},
   "source": [
    "4. Peak and Low Demand Months by City\n",
    "e For each city, identify the month with the highest total trips (peak demand)\n",
    "and the month with the lowest total trips (low demand). This analysis will help\n",
    "Goodcabs understand seasonal patterns and adjust resources accordingly."
   ]
  },
  {
   "cell_type": "code",
   "execution_count": null,
   "metadata": {},
   "outputs": [],
   "source": [
    "monthly_data = pd.merge(dim_city, fact_trips, how='inner', on='city_id')\n",
    "\n",
    "# monthly_data.keys()\n",
    "\n",
    "demand_details = pd.merge(monthly_data, dim_date, how='inner', on='date')\n",
    "\n",
    "# demand_details.keys()\n",
    "\n",
    "demand = pd.DataFrame(demand_details.groupby(['city_name','month_name'])['trip_id'].count())\n",
    "\n",
    "demand.reset_index(drop=True)\n",
    "\n",
    "max_demand = demand.loc[demand.groupby('city_name')['trip_id'].idxmax()]\n",
    "\n",
    "low_demand = demand.loc[demand.groupby('city_name')['trip_id'].idxmin()]\n",
    "\n",
    "max_demand\n",
    "low_demand\n",
    "\n",
    "\n"
   ]
  },
  {
   "cell_type": "markdown",
   "metadata": {},
   "source": [
    "5. Weekend vs. Weekday Trip Demand by City\n",
    "• Compare the total trips taken on weekdays versus weekends for each city\n",
    "over the six-month period. Identify cities with a strong preference for either\n",
    "weekend or weekday trips to understand demand variations."
   ]
  },
  {
   "cell_type": "code",
   "execution_count": null,
   "metadata": {},
   "outputs": [],
   "source": [
    "weekday_details = pd.DataFrame(demand_details[demand_details['day_type'] == 'Weekday'].groupby('city_name')['trip_id'].count())\n",
    "weekday_details.rename(columns={'trip_id': 'count(trip_id)'}, inplace=True)\n",
    "weekend_details = pd.DataFrame(demand_details[demand_details['day_type'] == 'Weekend'].groupby('city_name')['trip_id'].count())\n",
    "weekend_details.rename(columns={'trip_id': 'count(trip_id)'}, inplace=True)\n",
    "\n",
    "display(weekday_details, weekend_details)"
   ]
  },
  {
   "cell_type": "markdown",
   "metadata": {},
   "source": [
    "6. Repeat Passenger Frequency and City Contribution Analysis\n",
    "• Analyse the frequency of trips taken by repeat passengers in each city\n",
    "(e.g., % of repeat passengers taking 2 trips, 3 trips, etc.). Identify which cities\n",
    "contribute most to higher trip frequencies among repeat passengers, and\n",
    "examine if there are distingu ishable pattems between tourism-focused and\n",
    "business-focused cities."
   ]
  },
  {
   "cell_type": "code",
   "execution_count": null,
   "metadata": {},
   "outputs": [],
   "source": [
    "repeat_passenger_details = pd.merge(dim_city, dim_repeat_trip_distribution, how='inner', on='city_id')\n",
    "\n",
    "repeat_passenger_details['RPC_based_on_cities'] = repeat_passenger_details.groupby(['city_name','trip_count'])['repeat_passenger_count'].transform('sum')\n",
    "\n",
    "repeat_passenger_details['RPC_based_on_trip_count'] = repeat_passenger_details.groupby('trip_count')['repeat_passenger_count'].transform('sum')\n",
    "\n",
    "repeat_passenger_details['frequency_%'] = ((repeat_passenger_details['RPC_based_on_cities']/repeat_passenger_details['RPC_based_on_trip_count'])*100).round(2)\n",
    "\n",
    "repeat_passenger_details[['city_name', 'trip_count','frequency_%']].drop_duplicates().reset_index(drop=True)\n",
    "\n",
    "\n",
    "\n",
    "\n",
    "\n",
    "\n",
    "\n",
    "\n"
   ]
  },
  {
   "cell_type": "markdown",
   "metadata": {},
   "source": [
    "7. Monthly Target Achievement Analysis for Key Metrics\n",
    "• For each city, evaluate monthly performance against targets for total trips,\n",
    "new passengers, and average passenger ratings from targets db. Determine\n",
    "if each metric met, exceeded, or missed the target, and calcu late the\n",
    "percentage difference. Identify any consistent pattems in target achievement,\n",
    "particularly across tourism versus business-focused cities."
   ]
  },
  {
   "cell_type": "code",
   "execution_count": null,
   "metadata": {},
   "outputs": [],
   "source": [
    "# Merge city and trips data\n",
    "result1 = pd.merge(dim_city, fact_trips, how='inner', on='city_id')\n",
    "\n",
    "# Merge date and trips data\n",
    "result2 = pd.merge(dim_date, fact_trips, how='inner', on='date')\n",
    "\n",
    "# Merge result1 and result2 based on trip_id\n",
    "result3 = pd.merge(result1, result2, how='inner', on='trip_id')\n",
    "\n",
    "result4 = result3[['city_id_y', 'city_name', 'trip_id', \n",
    "                   'date_y', 'start_of_month', 'month_name', 'day_type',\n",
    "                   'passenger_type_y', 'distance_travelled(km)_y',\n",
    "                   'fare_amount_y', 'passenger_rating_y', 'driver_rating_y']]\n",
    "\n",
    "# Create a dictionary to rename the columns by removing 'y' from the column names\n",
    "rename_dict = {\n",
    "    'city_id_y': 'city_id',\n",
    "    'date_y': 'date',\n",
    "    'passenger_type_y': 'passenger_type',\n",
    "    'distance_travelled(km)_y': 'distance_travelled(km)',\n",
    "    'fare_amount_y': 'fare_amount',\n",
    "    'passenger_rating_y': 'passenger_rating',\n",
    "    'driver_rating_y': 'driver_rating'\n",
    "}\n",
    "\n",
    "# Rename the columns using the dictionary\n",
    "result4.rename(columns=rename_dict, inplace=True)\n",
    "\n",
    "result4['total_trip_count_based_on_cities'] = result4.groupby(['city_id','city_name','month_name'])['trip_id'].transform('count')\n",
    "# pd.DataFrame(result5.head(3))"
   ]
  },
  {
   "cell_type": "code",
   "execution_count": null,
   "metadata": {},
   "outputs": [],
   "source": [
    "\n",
    "Trip_performance_analysis = result4[['city_id', 'city_name','start_of_month', 'month_name','total_trip_count_based_on_cities']].drop_duplicates().reset_index(drop=True)\n",
    "\n",
    "Trip_performance_analysis = pd.merge(Trip_performance_analysis,monthly_target_trips,how='inner',left_on=['city_id','start_of_month'], right_on=['city_id','month'])\n",
    "\n",
    "Trip_performance_analysis['result'] =    Trip_performance_analysis['total_trip_count_based_on_cities'] - Trip_performance_analysis['total_target_trips']\n",
    "\n",
    "\n",
    "Trip_performance_analysis['percentage_difference'] =   (((Trip_performance_analysis['total_trip_count_based_on_cities'] - Trip_performance_analysis['total_target_trips'])/Trip_performance_analysis['total_target_trips'])*100).round(2)\n",
    "\n",
    "# Trip_performance_analysis[Trip_performance_analysis['city_name']=='Jaipur'][['city_name','total_target_trips','result']]\n",
    "\n",
    "# Trip_performance_analysis.groupby('city_name')['result'].sum()\n",
    "Trip_performance_analysis"
   ]
  },
  {
   "cell_type": "code",
   "execution_count": null,
   "metadata": {},
   "outputs": [],
   "source": [
    "passenger_analysis = pd.merge(dim_city,fact_passenger_summary,how='inner',on='city_id')\n",
    "\n",
    "passenger_analysis = pd.merge(passenger_analysis,monthly_target_new_passengers, how='inner',on=['month','city_id'])\n",
    "\n",
    "passenger_analysis.head()\n",
    "\n",
    "# passenger_analysis.drop(columns='city_id_x')\n",
    "\n",
    "passenger_analysis = pd.DataFrame(passenger_analysis.groupby('city_name')[['new_passengers','target_new_passengers']].sum())\n",
    "\n",
    "passenger_analysis['result'] = passenger_analysis['new_passengers'] - passenger_analysis['target_new_passengers']\n",
    "\n",
    "passenger_analysis ['percentage_difference']= (((passenger_analysis['new_passengers'] - passenger_analysis['target_new_passengers'] )/ passenger_analysis['target_new_passengers']) * 100).round(2)\n",
    "\n",
    "passenger_analysis"
   ]
  },
  {
   "cell_type": "code",
   "execution_count": null,
   "metadata": {},
   "outputs": [],
   "source": [
    "rating_analysis = pd.merge(fact_trips,city_target_passenger_rating,how='inner',on='city_id')\n",
    "\n",
    "rating_analysis = pd.DataFrame(rating_analysis.groupby('city_id')[['passenger_rating','target_avg_passenger_rating']].mean().round(2))\n",
    "rating_analysis ['percentage_target'] = (((rating_analysis['passenger_rating'] - rating_analysis['target_avg_passenger_rating'])/rating_analysis['target_avg_passenger_rating'])*100).round(2)\n",
    "\n",
    "rating_analysis = pd.merge(rating_analysis,dim_city,how='inner',on='city_id')\n",
    "\n",
    "rating_analysis"
   ]
  },
  {
   "cell_type": "markdown",
   "metadata": {},
   "source": [
    "8. Highest and Lowest Repeat Passenger Rate (RPR%) by City and Month    \n",
    "Analyse the Repeat Passenger Rate (RPR%) for each city across the six-\n",
    "month period. Identify the top 2 and bottom 2 cities based on their RPR% to\n",
    "determine which locations have the strongest and weakest rates.\n",
    "Similarly, analyse the RPR% by month across all cities and identify the\n",
    "months with the highest and lowest repeat passenger rates. This will help to\n",
    "pinpoint any seasonal patterns or months with higher repeat passenger\n",
    "loyalty."
   ]
  },
  {
   "cell_type": "code",
   "execution_count": null,
   "metadata": {},
   "outputs": [],
   "source": [
    "RPR_details = pd.merge(dim_city,fact_passenger_summary,how='inner',on='city_id')\n",
    "\n",
    "RPR_details = RPR_details[['city_id','city_name','repeat_passengers','total_passengers']]\n",
    "\n",
    "RPR_details = RPR_details.groupby('city_id')[['repeat_passengers','total_passengers']].sum()\n",
    "\n",
    "RPR_details['result'] = (((RPR_details['repeat_passengers']/RPR_details['total_passengers'])*100).round(2))\n",
    "\n",
    "RPR_details.head(5)"
   ]
  },
  {
   "cell_type": "markdown",
   "metadata": {},
   "source": [
    "• Similarly, analyse the RPR% by month across all cities and identify the\n",
    "months with the highest and lowest repeat passenger rates. This will help to\n",
    "pinpoint any seasonal patterns or months with higher repeat passenger\n",
    "loyalty."
   ]
  },
  {
   "cell_type": "code",
   "execution_count": null,
   "metadata": {},
   "outputs": [],
   "source": [
    "RPR_month_details = pd.merge(dim_city,fact_passenger_summary,how='inner',on='city_id')\n",
    "\n",
    "RPR_month_details = RPR_month_details[['city_id','city_name','month','repeat_passengers','total_passengers']]\n",
    "\n",
    "RPR_month_details = RPR_month_details.groupby(['city_id','month'])[['repeat_passengers','total_passengers']].sum()\n",
    "\n",
    "RPR_month_details['result'] = (((RPR_month_details['repeat_passengers']/RPR_month_details['total_passengers'])*100).round(2))\n",
    "\n",
    "RPR_month_details"
   ]
  }
 ],
 "metadata": {
  "kernelspec": {
   "display_name": "Python 3",
   "language": "python",
   "name": "python3"
  },
  "language_info": {
   "codemirror_mode": {
    "name": "ipython",
    "version": 3
   },
   "file_extension": ".py",
   "mimetype": "text/x-python",
   "name": "python",
   "nbconvert_exporter": "python",
   "pygments_lexer": "ipython3",
   "version": "3.12.0"
  }
 },
 "nbformat": 4,
 "nbformat_minor": 2
}
